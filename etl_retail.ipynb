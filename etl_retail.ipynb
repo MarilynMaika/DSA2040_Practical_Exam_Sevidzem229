{
 "cells": [
  {
   "cell_type": "code",
   "execution_count": 1,
   "id": "80260cb3",
   "metadata": {},
   "outputs": [],
   "source": [
    "from faker import Faker\n",
    "import pandas as pd\n",
    "import random\n",
    "from datetime import datetime"
   ]
  },
  {
   "cell_type": "markdown",
   "id": "a1f1b810",
   "metadata": {},
   "source": [
    "# DATA EXTRACTION"
   ]
  },
  {
   "cell_type": "code",
   "execution_count": 2,
   "id": "2dcf5f4b",
   "metadata": {},
   "outputs": [],
   "source": [
    "# Initialize Faker\n",
    "fake = Faker()\n",
    "# Set seed for reproducibility\n",
    "SEED = 42\n",
    "random.seed(SEED)\n",
    "fake.seed_instance(SEED)\n",
    "\n",
    "# Parameters\n",
    "num_rows = 1000\n",
    "num_customers = 100\n",
    "num_products = 50  # unique products\n",
    "countries_list = [fake.country() for _ in range(random.randint(5, 10))]\n",
    "\n",
    "# Create unique customer IDs\n",
    "customer_ids = [str(random.randint(10000, 99999)) for _ in range(num_customers)]\n",
    "\n",
    "# Product categories\n",
    "categories = [\n",
    "    \"Electronics\", \"Clothing\", \"Home & Kitchen\", \"Sports\", \n",
    "    \"Office Supplies\", \"Travel\"\n",
    "]\n",
    "\n",
    "# List of realistic product names\n",
    "product_types = [\n",
    "    \"T-Shirt\", \"Mug\", \"Notebook\", \"Backpack\", \"Pen\", \"Water Bottle\",\n",
    "    \"Cap\", \"Sunglasses\", \"Headphones\", \"Scarf\", \"Wallet\", \"Watch\",\n",
    "    \"Phone Case\", \"Laptop Sleeve\", \"Planner\", \"Keychain\", \"Desk Lamp\",\n",
    "    \"Coffee Maker\", \"Travel Pillow\", \"Yoga Mat\", \"Sneakers\", \"Jacket\",\n",
    "    \"Earbuds\", \"Hoodie\", \"Blanket\", \"Belt\", \"Thermos\", \"Tote Bag\",\n",
    "    \"Book\", \"Candle\", \"Picture Frame\", \"Charger\", \"Power Bank\",\n",
    "    \"Mouse Pad\", \"Desk Organizer\", \"Clock\", \"Gloves\", \"Raincoat\",\n",
    "    \"Slippers\", \"Bowl\", \"Plate\", \"Cutlery Set\", \"Back Scratcher\",\n",
    "    \"Umbrella\", \"Tripod\", \"Camping Tent\", \"Flashlight\", \"Mirror\", \"Floor Mat\", \"Calculator\"\n",
    "]\n",
    "\n",
    "# Ensure exactly num_products unique products\n",
    "selected_products = random.sample(product_types, num_products)\n",
    "\n",
    "# Generate product catalog with StockCode ↔ Description ↔ Category\n",
    "product_catalog = {}\n",
    "for product_name in selected_products:\n",
    "    stock_code = str(random.randint(10000, 99999))\n",
    "    while stock_code in product_catalog:  # Ensure uniqueness\n",
    "        stock_code = str(random.randint(10000, 99999))\n",
    "    price = round(random.uniform(1, 100), 2)\n",
    "    category = random.choice(categories)\n",
    "    product_catalog[stock_code] = {\n",
    "        \"name\": product_name,\n",
    "        \"price\": price,\n",
    "        \"category\": category\n",
    "    }\n",
    "\n",
    "product_codes = list(product_catalog.keys())\n",
    "product_weights = [random.randint(1, 100) for _ in range(num_products)]\n",
    "country_weights = [random.randint(1, 100) for _ in countries_list]\n",
    "\n",
    "# Functions\n",
    "def generate_invoice_no():\n",
    "    \"\"\"Generate a 6-digit invoice number (no cancellations).\"\"\"\n",
    "    return str(random.randint(100000, 999999))\n",
    "\n",
    "def generate_quantity():\n",
    "    \"\"\"Generate mostly positive quantities (2% chance negative).\"\"\"\n",
    "    if random.random() < 0.02:\n",
    "        return random.randint(-5, -1)\n",
    "    return random.randint(1, 50)\n",
    "\n",
    "def generate_invoice_date():\n",
    "    \"\"\"Generate random invoice date in last 2 years.\"\"\"\n",
    "    start_date = datetime(2023, 8, 12)\n",
    "    end_date = datetime(2025, 8, 12)\n",
    "    return fake.date_time_between(start_date=start_date, end_date=end_date)\n",
    "\n",
    "def get_unit_price(stock_code):\n",
    "    \"\"\"Return product's fixed price (1% chance negative for errors).\"\"\"\n",
    "    if random.random() < 0.01:\n",
    "        return round(random.uniform(-10, -0.5), 2)\n",
    "    return product_catalog[stock_code][\"price\"]\n",
    "\n",
    "# Build dataset ensuring each product appears at least once\n",
    "records = []\n",
    "\n",
    "# Step 1: One record per product to guarantee appearance\n",
    "for stock_code in product_codes:\n",
    "    records.append({\n",
    "        \"InvoiceNo\": generate_invoice_no(),\n",
    "        \"StockCode\": stock_code,\n",
    "        \"Description\": product_catalog[stock_code][\"name\"],\n",
    "        \"Category\": product_catalog[stock_code][\"category\"],\n",
    "        \"Quantity\": generate_quantity(),\n",
    "        \"InvoiceDate\": generate_invoice_date(),\n",
    "        \"UnitPrice\": get_unit_price(stock_code),\n",
    "        \"CustomerID\": random.choice(customer_ids),\n",
    "        \"Country\": random.choices(countries_list, weights=country_weights, k=1)[0]\n",
    "    })\n",
    "\n",
    "# Step 2: Generate remaining random records\n",
    "for _ in range(num_rows - num_products):\n",
    "    stock_code = random.choices(product_codes, weights=product_weights, k=1)[0]\n",
    "    records.append({\n",
    "        \"InvoiceNo\": generate_invoice_no(),\n",
    "        \"StockCode\": stock_code,\n",
    "        \"Description\": product_catalog[stock_code][\"name\"],\n",
    "        \"Category\": product_catalog[stock_code][\"category\"],\n",
    "        \"Quantity\": generate_quantity(),\n",
    "        \"InvoiceDate\": generate_invoice_date(),\n",
    "        \"UnitPrice\": get_unit_price(stock_code),\n",
    "        \"CustomerID\": random.choice(customer_ids),\n",
    "        \"Country\": random.choices(countries_list, weights=country_weights, k=1)[0]\n",
    "    })\n",
    "\n",
    "# Create DataFrame\n",
    "df = pd.DataFrame(records)\n"
   ]
  },
  {
   "cell_type": "code",
   "execution_count": 3,
   "id": "436575af",
   "metadata": {},
   "outputs": [
    {
     "data": {
      "application/vnd.microsoft.datawrangler.viewer.v0+json": {
       "columns": [
        {
         "name": "index",
         "rawType": "object",
         "type": "string"
        },
        {
         "name": "Quantity",
         "rawType": "float64",
         "type": "float"
        },
        {
         "name": "InvoiceDate",
         "rawType": "object",
         "type": "unknown"
        },
        {
         "name": "UnitPrice",
         "rawType": "float64",
         "type": "float"
        }
       ],
       "ref": "47aa640d-4f8a-4439-9019-c57a0373b54e",
       "rows": [
        [
         "count",
         "1000.0",
         "1000",
         "1000.0"
        ],
        [
         "mean",
         "26.427",
         "2024-08-14 00:33:51.394999808",
         "50.683279999999996"
        ],
        [
         "min",
         "-5.0",
         "2023-08-12 07:34:02",
         "-8.5"
        ],
        [
         "25%",
         "14.0",
         "2024-02-11 19:26:09.500000",
         "17.35"
        ],
        [
         "50%",
         "27.0",
         "2024-08-09 06:55:58.500000",
         "58.04"
        ],
        [
         "75%",
         "39.0",
         "2025-02-16 16:58:24.249999872",
         "80.26"
        ],
        [
         "max",
         "50.0",
         "2025-08-11 09:38:57",
         "97.22"
        ],
        [
         "std",
         "14.795390315046594",
         null,
         "31.98375412564275"
        ]
       ],
       "shape": {
        "columns": 3,
        "rows": 8
       }
      },
      "text/html": [
       "<div>\n",
       "<style scoped>\n",
       "    .dataframe tbody tr th:only-of-type {\n",
       "        vertical-align: middle;\n",
       "    }\n",
       "\n",
       "    .dataframe tbody tr th {\n",
       "        vertical-align: top;\n",
       "    }\n",
       "\n",
       "    .dataframe thead th {\n",
       "        text-align: right;\n",
       "    }\n",
       "</style>\n",
       "<table border=\"1\" class=\"dataframe\">\n",
       "  <thead>\n",
       "    <tr style=\"text-align: right;\">\n",
       "      <th></th>\n",
       "      <th>Quantity</th>\n",
       "      <th>InvoiceDate</th>\n",
       "      <th>UnitPrice</th>\n",
       "    </tr>\n",
       "  </thead>\n",
       "  <tbody>\n",
       "    <tr>\n",
       "      <th>count</th>\n",
       "      <td>1000.00000</td>\n",
       "      <td>1000</td>\n",
       "      <td>1000.000000</td>\n",
       "    </tr>\n",
       "    <tr>\n",
       "      <th>mean</th>\n",
       "      <td>26.42700</td>\n",
       "      <td>2024-08-14 00:33:51.394999808</td>\n",
       "      <td>50.683280</td>\n",
       "    </tr>\n",
       "    <tr>\n",
       "      <th>min</th>\n",
       "      <td>-5.00000</td>\n",
       "      <td>2023-08-12 07:34:02</td>\n",
       "      <td>-8.500000</td>\n",
       "    </tr>\n",
       "    <tr>\n",
       "      <th>25%</th>\n",
       "      <td>14.00000</td>\n",
       "      <td>2024-02-11 19:26:09.500000</td>\n",
       "      <td>17.350000</td>\n",
       "    </tr>\n",
       "    <tr>\n",
       "      <th>50%</th>\n",
       "      <td>27.00000</td>\n",
       "      <td>2024-08-09 06:55:58.500000</td>\n",
       "      <td>58.040000</td>\n",
       "    </tr>\n",
       "    <tr>\n",
       "      <th>75%</th>\n",
       "      <td>39.00000</td>\n",
       "      <td>2025-02-16 16:58:24.249999872</td>\n",
       "      <td>80.260000</td>\n",
       "    </tr>\n",
       "    <tr>\n",
       "      <th>max</th>\n",
       "      <td>50.00000</td>\n",
       "      <td>2025-08-11 09:38:57</td>\n",
       "      <td>97.220000</td>\n",
       "    </tr>\n",
       "    <tr>\n",
       "      <th>std</th>\n",
       "      <td>14.79539</td>\n",
       "      <td>NaN</td>\n",
       "      <td>31.983754</td>\n",
       "    </tr>\n",
       "  </tbody>\n",
       "</table>\n",
       "</div>"
      ],
      "text/plain": [
       "         Quantity                    InvoiceDate    UnitPrice\n",
       "count  1000.00000                           1000  1000.000000\n",
       "mean     26.42700  2024-08-14 00:33:51.394999808    50.683280\n",
       "min      -5.00000            2023-08-12 07:34:02    -8.500000\n",
       "25%      14.00000     2024-02-11 19:26:09.500000    17.350000\n",
       "50%      27.00000     2024-08-09 06:55:58.500000    58.040000\n",
       "75%      39.00000  2025-02-16 16:58:24.249999872    80.260000\n",
       "max      50.00000            2025-08-11 09:38:57    97.220000\n",
       "std      14.79539                            NaN    31.983754"
      ]
     },
     "execution_count": 3,
     "metadata": {},
     "output_type": "execute_result"
    }
   ],
   "source": [
    "df.describe()"
   ]
  },
  {
   "cell_type": "code",
   "execution_count": 4,
   "id": "cedb8e57",
   "metadata": {},
   "outputs": [
    {
     "data": {
      "application/vnd.microsoft.datawrangler.viewer.v0+json": {
       "columns": [
        {
         "name": "index",
         "rawType": "int64",
         "type": "integer"
        },
        {
         "name": "InvoiceNo",
         "rawType": "object",
         "type": "string"
        },
        {
         "name": "StockCode",
         "rawType": "object",
         "type": "string"
        },
        {
         "name": "Description",
         "rawType": "object",
         "type": "string"
        },
        {
         "name": "Category",
         "rawType": "object",
         "type": "string"
        },
        {
         "name": "Quantity",
         "rawType": "int64",
         "type": "integer"
        },
        {
         "name": "InvoiceDate",
         "rawType": "datetime64[ns]",
         "type": "datetime"
        },
        {
         "name": "UnitPrice",
         "rawType": "float64",
         "type": "float"
        },
        {
         "name": "CustomerID",
         "rawType": "object",
         "type": "string"
        },
        {
         "name": "Country",
         "rawType": "object",
         "type": "string"
        }
       ],
       "ref": "51661337-3566-4d5a-a969-8f4c8dd53cbf",
       "rows": [
        [
         "0",
         "800305",
         "69470",
         "Pen",
         "Travel",
         "20",
         "2025-01-18 14:35:33",
         "1.32",
         "13905",
         "Saint Pierre and Miquelon"
        ],
        [
         "1",
         "240814",
         "44522",
         "Laptop Sleeve",
         "Clothing",
         "7",
         "2025-03-09 07:02:50",
         "97.22",
         "13478",
         "Saint Vincent and the Grenadines"
        ],
        [
         "2",
         "734210",
         "76542",
         "Gloves",
         "Travel",
         "22",
         "2025-07-04 23:25:57",
         "91.35",
         "93227",
         "Burundi"
        ],
        [
         "3",
         "629959",
         "49117",
         "Camping Tent",
         "Office Supplies",
         "4",
         "2024-10-08 14:22:08",
         "84.33",
         "91070",
         "Burundi"
        ],
        [
         "4",
         "146228",
         "89818",
         "Sneakers",
         "Home & Kitchen",
         "-4",
         "2023-10-18 12:39:26",
         "20.69",
         "46421",
         "Anguilla"
        ]
       ],
       "shape": {
        "columns": 9,
        "rows": 5
       }
      },
      "text/html": [
       "<div>\n",
       "<style scoped>\n",
       "    .dataframe tbody tr th:only-of-type {\n",
       "        vertical-align: middle;\n",
       "    }\n",
       "\n",
       "    .dataframe tbody tr th {\n",
       "        vertical-align: top;\n",
       "    }\n",
       "\n",
       "    .dataframe thead th {\n",
       "        text-align: right;\n",
       "    }\n",
       "</style>\n",
       "<table border=\"1\" class=\"dataframe\">\n",
       "  <thead>\n",
       "    <tr style=\"text-align: right;\">\n",
       "      <th></th>\n",
       "      <th>InvoiceNo</th>\n",
       "      <th>StockCode</th>\n",
       "      <th>Description</th>\n",
       "      <th>Category</th>\n",
       "      <th>Quantity</th>\n",
       "      <th>InvoiceDate</th>\n",
       "      <th>UnitPrice</th>\n",
       "      <th>CustomerID</th>\n",
       "      <th>Country</th>\n",
       "    </tr>\n",
       "  </thead>\n",
       "  <tbody>\n",
       "    <tr>\n",
       "      <th>0</th>\n",
       "      <td>800305</td>\n",
       "      <td>69470</td>\n",
       "      <td>Pen</td>\n",
       "      <td>Travel</td>\n",
       "      <td>20</td>\n",
       "      <td>2025-01-18 14:35:33</td>\n",
       "      <td>1.32</td>\n",
       "      <td>13905</td>\n",
       "      <td>Saint Pierre and Miquelon</td>\n",
       "    </tr>\n",
       "    <tr>\n",
       "      <th>1</th>\n",
       "      <td>240814</td>\n",
       "      <td>44522</td>\n",
       "      <td>Laptop Sleeve</td>\n",
       "      <td>Clothing</td>\n",
       "      <td>7</td>\n",
       "      <td>2025-03-09 07:02:50</td>\n",
       "      <td>97.22</td>\n",
       "      <td>13478</td>\n",
       "      <td>Saint Vincent and the Grenadines</td>\n",
       "    </tr>\n",
       "    <tr>\n",
       "      <th>2</th>\n",
       "      <td>734210</td>\n",
       "      <td>76542</td>\n",
       "      <td>Gloves</td>\n",
       "      <td>Travel</td>\n",
       "      <td>22</td>\n",
       "      <td>2025-07-04 23:25:57</td>\n",
       "      <td>91.35</td>\n",
       "      <td>93227</td>\n",
       "      <td>Burundi</td>\n",
       "    </tr>\n",
       "    <tr>\n",
       "      <th>3</th>\n",
       "      <td>629959</td>\n",
       "      <td>49117</td>\n",
       "      <td>Camping Tent</td>\n",
       "      <td>Office Supplies</td>\n",
       "      <td>4</td>\n",
       "      <td>2024-10-08 14:22:08</td>\n",
       "      <td>84.33</td>\n",
       "      <td>91070</td>\n",
       "      <td>Burundi</td>\n",
       "    </tr>\n",
       "    <tr>\n",
       "      <th>4</th>\n",
       "      <td>146228</td>\n",
       "      <td>89818</td>\n",
       "      <td>Sneakers</td>\n",
       "      <td>Home &amp; Kitchen</td>\n",
       "      <td>-4</td>\n",
       "      <td>2023-10-18 12:39:26</td>\n",
       "      <td>20.69</td>\n",
       "      <td>46421</td>\n",
       "      <td>Anguilla</td>\n",
       "    </tr>\n",
       "  </tbody>\n",
       "</table>\n",
       "</div>"
      ],
      "text/plain": [
       "  InvoiceNo StockCode    Description         Category  Quantity  \\\n",
       "0    800305     69470            Pen           Travel        20   \n",
       "1    240814     44522  Laptop Sleeve         Clothing         7   \n",
       "2    734210     76542         Gloves           Travel        22   \n",
       "3    629959     49117   Camping Tent  Office Supplies         4   \n",
       "4    146228     89818       Sneakers   Home & Kitchen        -4   \n",
       "\n",
       "          InvoiceDate  UnitPrice CustomerID                           Country  \n",
       "0 2025-01-18 14:35:33       1.32      13905         Saint Pierre and Miquelon  \n",
       "1 2025-03-09 07:02:50      97.22      13478  Saint Vincent and the Grenadines  \n",
       "2 2025-07-04 23:25:57      91.35      93227                           Burundi  \n",
       "3 2024-10-08 14:22:08      84.33      91070                           Burundi  \n",
       "4 2023-10-18 12:39:26      20.69      46421                          Anguilla  "
      ]
     },
     "execution_count": 4,
     "metadata": {},
     "output_type": "execute_result"
    }
   ],
   "source": [
    "df.head()"
   ]
  },
  {
   "cell_type": "code",
   "execution_count": 5,
   "id": "c9678b5e",
   "metadata": {},
   "outputs": [
    {
     "data": {
      "application/vnd.microsoft.datawrangler.viewer.v0+json": {
       "columns": [
        {
         "name": "index",
         "rawType": "object",
         "type": "string"
        },
        {
         "name": "0",
         "rawType": "object",
         "type": "unknown"
        }
       ],
       "ref": "58815a1e-f5b0-4f86-8325-416771949e29",
       "rows": [
        [
         "InvoiceNo",
         "object"
        ],
        [
         "StockCode",
         "object"
        ],
        [
         "Description",
         "object"
        ],
        [
         "Category",
         "object"
        ],
        [
         "Quantity",
         "int64"
        ],
        [
         "InvoiceDate",
         "datetime64[ns]"
        ],
        [
         "UnitPrice",
         "float64"
        ],
        [
         "CustomerID",
         "object"
        ],
        [
         "Country",
         "object"
        ]
       ],
       "shape": {
        "columns": 1,
        "rows": 9
       }
      },
      "text/plain": [
       "InvoiceNo              object\n",
       "StockCode              object\n",
       "Description            object\n",
       "Category               object\n",
       "Quantity                int64\n",
       "InvoiceDate    datetime64[ns]\n",
       "UnitPrice             float64\n",
       "CustomerID             object\n",
       "Country                object\n",
       "dtype: object"
      ]
     },
     "execution_count": 5,
     "metadata": {},
     "output_type": "execute_result"
    }
   ],
   "source": [
    "df.dtypes"
   ]
  },
  {
   "cell_type": "markdown",
   "id": "79705a77",
   "metadata": {},
   "source": [
    "## checking for rows with negative values for quantities and prices"
   ]
  },
  {
   "cell_type": "code",
   "execution_count": 6,
   "id": "454cf4a0",
   "metadata": {},
   "outputs": [
    {
     "name": "stdout",
     "output_type": "stream",
     "text": [
      "22\n"
     ]
    },
    {
     "data": {
      "application/vnd.microsoft.datawrangler.viewer.v0+json": {
       "columns": [
        {
         "name": "index",
         "rawType": "int64",
         "type": "integer"
        },
        {
         "name": "InvoiceNo",
         "rawType": "object",
         "type": "string"
        },
        {
         "name": "StockCode",
         "rawType": "object",
         "type": "string"
        },
        {
         "name": "Description",
         "rawType": "object",
         "type": "string"
        },
        {
         "name": "Category",
         "rawType": "object",
         "type": "string"
        },
        {
         "name": "Quantity",
         "rawType": "int64",
         "type": "integer"
        },
        {
         "name": "InvoiceDate",
         "rawType": "datetime64[ns]",
         "type": "datetime"
        },
        {
         "name": "UnitPrice",
         "rawType": "float64",
         "type": "float"
        },
        {
         "name": "CustomerID",
         "rawType": "object",
         "type": "string"
        },
        {
         "name": "Country",
         "rawType": "object",
         "type": "string"
        }
       ],
       "ref": "a8b30f49-51ef-4ece-9d55-a2b49954ddaf",
       "rows": [
        [
         "4",
         "146228",
         "89818",
         "Sneakers",
         "Home & Kitchen",
         "-4",
         "2023-10-18 12:39:26",
         "20.69",
         "46421",
         "Anguilla"
        ],
        [
         "70",
         "416950",
         "98039",
         "Slippers",
         "Sports",
         "-1",
         "2023-09-16 14:13:42",
         "65.34",
         "28289",
         "Saint Pierre and Miquelon"
        ],
        [
         "112",
         "799233",
         "92719",
         "Calculator",
         "Electronics",
         "-2",
         "2025-01-24 18:08:04",
         "6.83",
         "70589",
         "Ecuador"
        ],
        [
         "138",
         "238205",
         "44760",
         "Hoodie",
         "Sports",
         "-4",
         "2024-12-23 07:37:38",
         "92.73",
         "46048",
         "Anguilla"
        ],
        [
         "199",
         "745239",
         "92719",
         "Calculator",
         "Electronics",
         "-5",
         "2025-06-22 07:04:55",
         "6.83",
         "87236",
         "Burundi"
        ],
        [
         "202",
         "662093",
         "14117",
         "Mouse Pad",
         "Electronics",
         "-1",
         "2024-09-03 19:36:05",
         "86.1",
         "38785",
         "Anguilla"
        ],
        [
         "274",
         "139286",
         "30289",
         "Yoga Mat",
         "Clothing",
         "-1",
         "2024-05-28 01:03:45",
         "19.8",
         "55082",
         "Saint Vincent and the Grenadines"
        ],
        [
         "320",
         "901467",
         "22899",
         "Water Bottle",
         "Travel",
         "-4",
         "2024-06-23 04:08:51",
         "7.0",
         "10851",
         "Bouvet Island (Bouvetoya)"
        ],
        [
         "400",
         "566686",
         "77391",
         "Mirror",
         "Travel",
         "-3",
         "2024-08-24 00:12:45",
         "24.56",
         "91070",
         "Czech Republic"
        ],
        [
         "418",
         "835575",
         "42591",
         "Back Scratcher",
         "Office Supplies",
         "-2",
         "2025-06-04 07:51:03",
         "19.97",
         "59823",
         "Ecuador"
        ],
        [
         "444",
         "227352",
         "11934",
         "Raincoat",
         "Clothing",
         "-4",
         "2024-11-07 08:26:24",
         "96.93",
         "82357",
         "Falkland Islands (Malvinas)"
        ],
        [
         "509",
         "815338",
         "79615",
         "Travel Pillow",
         "Office Supplies",
         "-4",
         "2025-07-03 01:26:49",
         "16.59",
         "44993",
         "Burundi"
        ],
        [
         "547",
         "148118",
         "46509",
         "Power Bank",
         "Electronics",
         "-4",
         "2024-10-13 12:04:06",
         "46.8",
         "36062",
         "Saint Vincent and the Grenadines"
        ],
        [
         "657",
         "766764",
         "50306",
         "Belt",
         "Clothing",
         "-5",
         "2023-11-09 14:07:33",
         "24.71",
         "96673",
         "Saint Pierre and Miquelon"
        ],
        [
         "676",
         "743644",
         "22899",
         "Water Bottle",
         "Travel",
         "-1",
         "2025-07-10 15:59:00",
         "7.0",
         "39871",
         "Falkland Islands (Malvinas)"
        ],
        [
         "705",
         "111068",
         "50306",
         "Belt",
         "Clothing",
         "-4",
         "2023-11-16 19:11:03",
         "24.71",
         "96673",
         "Ecuador"
        ],
        [
         "805",
         "312705",
         "10074",
         "Cutlery Set",
         "Sports",
         "-3",
         "2024-07-07 05:17:58",
         "60.3",
         "20458",
         "Burundi"
        ],
        [
         "860",
         "155708",
         "82845",
         "Cap",
         "Sports",
         "-1",
         "2023-10-11 04:23:39",
         "66.53",
         "15695",
         "Anguilla"
        ],
        [
         "864",
         "779885",
         "69470",
         "Pen",
         "Travel",
         "-2",
         "2024-03-10 01:08:12",
         "1.32",
         "76237",
         "Bouvet Island (Bouvetoya)"
        ],
        [
         "884",
         "555851",
         "77391",
         "Mirror",
         "Travel",
         "-2",
         "2024-06-29 22:35:36",
         "24.56",
         "22676",
         "Saint Pierre and Miquelon"
        ],
        [
         "899",
         "567541",
         "26483",
         "Desk Lamp",
         "Sports",
         "-2",
         "2024-06-02 10:48:58",
         "13.71",
         "93227",
         "Northern Mariana Islands"
        ],
        [
         "981",
         "929653",
         "26483",
         "Desk Lamp",
         "Sports",
         "-3",
         "2023-09-12 06:27:57",
         "13.71",
         "93227",
         "Burundi"
        ]
       ],
       "shape": {
        "columns": 9,
        "rows": 22
       }
      },
      "text/html": [
       "<div>\n",
       "<style scoped>\n",
       "    .dataframe tbody tr th:only-of-type {\n",
       "        vertical-align: middle;\n",
       "    }\n",
       "\n",
       "    .dataframe tbody tr th {\n",
       "        vertical-align: top;\n",
       "    }\n",
       "\n",
       "    .dataframe thead th {\n",
       "        text-align: right;\n",
       "    }\n",
       "</style>\n",
       "<table border=\"1\" class=\"dataframe\">\n",
       "  <thead>\n",
       "    <tr style=\"text-align: right;\">\n",
       "      <th></th>\n",
       "      <th>InvoiceNo</th>\n",
       "      <th>StockCode</th>\n",
       "      <th>Description</th>\n",
       "      <th>Category</th>\n",
       "      <th>Quantity</th>\n",
       "      <th>InvoiceDate</th>\n",
       "      <th>UnitPrice</th>\n",
       "      <th>CustomerID</th>\n",
       "      <th>Country</th>\n",
       "    </tr>\n",
       "  </thead>\n",
       "  <tbody>\n",
       "    <tr>\n",
       "      <th>4</th>\n",
       "      <td>146228</td>\n",
       "      <td>89818</td>\n",
       "      <td>Sneakers</td>\n",
       "      <td>Home &amp; Kitchen</td>\n",
       "      <td>-4</td>\n",
       "      <td>2023-10-18 12:39:26</td>\n",
       "      <td>20.69</td>\n",
       "      <td>46421</td>\n",
       "      <td>Anguilla</td>\n",
       "    </tr>\n",
       "    <tr>\n",
       "      <th>70</th>\n",
       "      <td>416950</td>\n",
       "      <td>98039</td>\n",
       "      <td>Slippers</td>\n",
       "      <td>Sports</td>\n",
       "      <td>-1</td>\n",
       "      <td>2023-09-16 14:13:42</td>\n",
       "      <td>65.34</td>\n",
       "      <td>28289</td>\n",
       "      <td>Saint Pierre and Miquelon</td>\n",
       "    </tr>\n",
       "    <tr>\n",
       "      <th>112</th>\n",
       "      <td>799233</td>\n",
       "      <td>92719</td>\n",
       "      <td>Calculator</td>\n",
       "      <td>Electronics</td>\n",
       "      <td>-2</td>\n",
       "      <td>2025-01-24 18:08:04</td>\n",
       "      <td>6.83</td>\n",
       "      <td>70589</td>\n",
       "      <td>Ecuador</td>\n",
       "    </tr>\n",
       "    <tr>\n",
       "      <th>138</th>\n",
       "      <td>238205</td>\n",
       "      <td>44760</td>\n",
       "      <td>Hoodie</td>\n",
       "      <td>Sports</td>\n",
       "      <td>-4</td>\n",
       "      <td>2024-12-23 07:37:38</td>\n",
       "      <td>92.73</td>\n",
       "      <td>46048</td>\n",
       "      <td>Anguilla</td>\n",
       "    </tr>\n",
       "    <tr>\n",
       "      <th>199</th>\n",
       "      <td>745239</td>\n",
       "      <td>92719</td>\n",
       "      <td>Calculator</td>\n",
       "      <td>Electronics</td>\n",
       "      <td>-5</td>\n",
       "      <td>2025-06-22 07:04:55</td>\n",
       "      <td>6.83</td>\n",
       "      <td>87236</td>\n",
       "      <td>Burundi</td>\n",
       "    </tr>\n",
       "    <tr>\n",
       "      <th>202</th>\n",
       "      <td>662093</td>\n",
       "      <td>14117</td>\n",
       "      <td>Mouse Pad</td>\n",
       "      <td>Electronics</td>\n",
       "      <td>-1</td>\n",
       "      <td>2024-09-03 19:36:05</td>\n",
       "      <td>86.10</td>\n",
       "      <td>38785</td>\n",
       "      <td>Anguilla</td>\n",
       "    </tr>\n",
       "    <tr>\n",
       "      <th>274</th>\n",
       "      <td>139286</td>\n",
       "      <td>30289</td>\n",
       "      <td>Yoga Mat</td>\n",
       "      <td>Clothing</td>\n",
       "      <td>-1</td>\n",
       "      <td>2024-05-28 01:03:45</td>\n",
       "      <td>19.80</td>\n",
       "      <td>55082</td>\n",
       "      <td>Saint Vincent and the Grenadines</td>\n",
       "    </tr>\n",
       "    <tr>\n",
       "      <th>320</th>\n",
       "      <td>901467</td>\n",
       "      <td>22899</td>\n",
       "      <td>Water Bottle</td>\n",
       "      <td>Travel</td>\n",
       "      <td>-4</td>\n",
       "      <td>2024-06-23 04:08:51</td>\n",
       "      <td>7.00</td>\n",
       "      <td>10851</td>\n",
       "      <td>Bouvet Island (Bouvetoya)</td>\n",
       "    </tr>\n",
       "    <tr>\n",
       "      <th>400</th>\n",
       "      <td>566686</td>\n",
       "      <td>77391</td>\n",
       "      <td>Mirror</td>\n",
       "      <td>Travel</td>\n",
       "      <td>-3</td>\n",
       "      <td>2024-08-24 00:12:45</td>\n",
       "      <td>24.56</td>\n",
       "      <td>91070</td>\n",
       "      <td>Czech Republic</td>\n",
       "    </tr>\n",
       "    <tr>\n",
       "      <th>418</th>\n",
       "      <td>835575</td>\n",
       "      <td>42591</td>\n",
       "      <td>Back Scratcher</td>\n",
       "      <td>Office Supplies</td>\n",
       "      <td>-2</td>\n",
       "      <td>2025-06-04 07:51:03</td>\n",
       "      <td>19.97</td>\n",
       "      <td>59823</td>\n",
       "      <td>Ecuador</td>\n",
       "    </tr>\n",
       "    <tr>\n",
       "      <th>444</th>\n",
       "      <td>227352</td>\n",
       "      <td>11934</td>\n",
       "      <td>Raincoat</td>\n",
       "      <td>Clothing</td>\n",
       "      <td>-4</td>\n",
       "      <td>2024-11-07 08:26:24</td>\n",
       "      <td>96.93</td>\n",
       "      <td>82357</td>\n",
       "      <td>Falkland Islands (Malvinas)</td>\n",
       "    </tr>\n",
       "    <tr>\n",
       "      <th>509</th>\n",
       "      <td>815338</td>\n",
       "      <td>79615</td>\n",
       "      <td>Travel Pillow</td>\n",
       "      <td>Office Supplies</td>\n",
       "      <td>-4</td>\n",
       "      <td>2025-07-03 01:26:49</td>\n",
       "      <td>16.59</td>\n",
       "      <td>44993</td>\n",
       "      <td>Burundi</td>\n",
       "    </tr>\n",
       "    <tr>\n",
       "      <th>547</th>\n",
       "      <td>148118</td>\n",
       "      <td>46509</td>\n",
       "      <td>Power Bank</td>\n",
       "      <td>Electronics</td>\n",
       "      <td>-4</td>\n",
       "      <td>2024-10-13 12:04:06</td>\n",
       "      <td>46.80</td>\n",
       "      <td>36062</td>\n",
       "      <td>Saint Vincent and the Grenadines</td>\n",
       "    </tr>\n",
       "    <tr>\n",
       "      <th>657</th>\n",
       "      <td>766764</td>\n",
       "      <td>50306</td>\n",
       "      <td>Belt</td>\n",
       "      <td>Clothing</td>\n",
       "      <td>-5</td>\n",
       "      <td>2023-11-09 14:07:33</td>\n",
       "      <td>24.71</td>\n",
       "      <td>96673</td>\n",
       "      <td>Saint Pierre and Miquelon</td>\n",
       "    </tr>\n",
       "    <tr>\n",
       "      <th>676</th>\n",
       "      <td>743644</td>\n",
       "      <td>22899</td>\n",
       "      <td>Water Bottle</td>\n",
       "      <td>Travel</td>\n",
       "      <td>-1</td>\n",
       "      <td>2025-07-10 15:59:00</td>\n",
       "      <td>7.00</td>\n",
       "      <td>39871</td>\n",
       "      <td>Falkland Islands (Malvinas)</td>\n",
       "    </tr>\n",
       "    <tr>\n",
       "      <th>705</th>\n",
       "      <td>111068</td>\n",
       "      <td>50306</td>\n",
       "      <td>Belt</td>\n",
       "      <td>Clothing</td>\n",
       "      <td>-4</td>\n",
       "      <td>2023-11-16 19:11:03</td>\n",
       "      <td>24.71</td>\n",
       "      <td>96673</td>\n",
       "      <td>Ecuador</td>\n",
       "    </tr>\n",
       "    <tr>\n",
       "      <th>805</th>\n",
       "      <td>312705</td>\n",
       "      <td>10074</td>\n",
       "      <td>Cutlery Set</td>\n",
       "      <td>Sports</td>\n",
       "      <td>-3</td>\n",
       "      <td>2024-07-07 05:17:58</td>\n",
       "      <td>60.30</td>\n",
       "      <td>20458</td>\n",
       "      <td>Burundi</td>\n",
       "    </tr>\n",
       "    <tr>\n",
       "      <th>860</th>\n",
       "      <td>155708</td>\n",
       "      <td>82845</td>\n",
       "      <td>Cap</td>\n",
       "      <td>Sports</td>\n",
       "      <td>-1</td>\n",
       "      <td>2023-10-11 04:23:39</td>\n",
       "      <td>66.53</td>\n",
       "      <td>15695</td>\n",
       "      <td>Anguilla</td>\n",
       "    </tr>\n",
       "    <tr>\n",
       "      <th>864</th>\n",
       "      <td>779885</td>\n",
       "      <td>69470</td>\n",
       "      <td>Pen</td>\n",
       "      <td>Travel</td>\n",
       "      <td>-2</td>\n",
       "      <td>2024-03-10 01:08:12</td>\n",
       "      <td>1.32</td>\n",
       "      <td>76237</td>\n",
       "      <td>Bouvet Island (Bouvetoya)</td>\n",
       "    </tr>\n",
       "    <tr>\n",
       "      <th>884</th>\n",
       "      <td>555851</td>\n",
       "      <td>77391</td>\n",
       "      <td>Mirror</td>\n",
       "      <td>Travel</td>\n",
       "      <td>-2</td>\n",
       "      <td>2024-06-29 22:35:36</td>\n",
       "      <td>24.56</td>\n",
       "      <td>22676</td>\n",
       "      <td>Saint Pierre and Miquelon</td>\n",
       "    </tr>\n",
       "    <tr>\n",
       "      <th>899</th>\n",
       "      <td>567541</td>\n",
       "      <td>26483</td>\n",
       "      <td>Desk Lamp</td>\n",
       "      <td>Sports</td>\n",
       "      <td>-2</td>\n",
       "      <td>2024-06-02 10:48:58</td>\n",
       "      <td>13.71</td>\n",
       "      <td>93227</td>\n",
       "      <td>Northern Mariana Islands</td>\n",
       "    </tr>\n",
       "    <tr>\n",
       "      <th>981</th>\n",
       "      <td>929653</td>\n",
       "      <td>26483</td>\n",
       "      <td>Desk Lamp</td>\n",
       "      <td>Sports</td>\n",
       "      <td>-3</td>\n",
       "      <td>2023-09-12 06:27:57</td>\n",
       "      <td>13.71</td>\n",
       "      <td>93227</td>\n",
       "      <td>Burundi</td>\n",
       "    </tr>\n",
       "  </tbody>\n",
       "</table>\n",
       "</div>"
      ],
      "text/plain": [
       "    InvoiceNo StockCode     Description         Category  Quantity  \\\n",
       "4      146228     89818        Sneakers   Home & Kitchen        -4   \n",
       "70     416950     98039        Slippers           Sports        -1   \n",
       "112    799233     92719      Calculator      Electronics        -2   \n",
       "138    238205     44760          Hoodie           Sports        -4   \n",
       "199    745239     92719      Calculator      Electronics        -5   \n",
       "202    662093     14117       Mouse Pad      Electronics        -1   \n",
       "274    139286     30289        Yoga Mat         Clothing        -1   \n",
       "320    901467     22899    Water Bottle           Travel        -4   \n",
       "400    566686     77391          Mirror           Travel        -3   \n",
       "418    835575     42591  Back Scratcher  Office Supplies        -2   \n",
       "444    227352     11934        Raincoat         Clothing        -4   \n",
       "509    815338     79615   Travel Pillow  Office Supplies        -4   \n",
       "547    148118     46509      Power Bank      Electronics        -4   \n",
       "657    766764     50306            Belt         Clothing        -5   \n",
       "676    743644     22899    Water Bottle           Travel        -1   \n",
       "705    111068     50306            Belt         Clothing        -4   \n",
       "805    312705     10074     Cutlery Set           Sports        -3   \n",
       "860    155708     82845             Cap           Sports        -1   \n",
       "864    779885     69470             Pen           Travel        -2   \n",
       "884    555851     77391          Mirror           Travel        -2   \n",
       "899    567541     26483       Desk Lamp           Sports        -2   \n",
       "981    929653     26483       Desk Lamp           Sports        -3   \n",
       "\n",
       "            InvoiceDate  UnitPrice CustomerID  \\\n",
       "4   2023-10-18 12:39:26      20.69      46421   \n",
       "70  2023-09-16 14:13:42      65.34      28289   \n",
       "112 2025-01-24 18:08:04       6.83      70589   \n",
       "138 2024-12-23 07:37:38      92.73      46048   \n",
       "199 2025-06-22 07:04:55       6.83      87236   \n",
       "202 2024-09-03 19:36:05      86.10      38785   \n",
       "274 2024-05-28 01:03:45      19.80      55082   \n",
       "320 2024-06-23 04:08:51       7.00      10851   \n",
       "400 2024-08-24 00:12:45      24.56      91070   \n",
       "418 2025-06-04 07:51:03      19.97      59823   \n",
       "444 2024-11-07 08:26:24      96.93      82357   \n",
       "509 2025-07-03 01:26:49      16.59      44993   \n",
       "547 2024-10-13 12:04:06      46.80      36062   \n",
       "657 2023-11-09 14:07:33      24.71      96673   \n",
       "676 2025-07-10 15:59:00       7.00      39871   \n",
       "705 2023-11-16 19:11:03      24.71      96673   \n",
       "805 2024-07-07 05:17:58      60.30      20458   \n",
       "860 2023-10-11 04:23:39      66.53      15695   \n",
       "864 2024-03-10 01:08:12       1.32      76237   \n",
       "884 2024-06-29 22:35:36      24.56      22676   \n",
       "899 2024-06-02 10:48:58      13.71      93227   \n",
       "981 2023-09-12 06:27:57      13.71      93227   \n",
       "\n",
       "                              Country  \n",
       "4                            Anguilla  \n",
       "70          Saint Pierre and Miquelon  \n",
       "112                           Ecuador  \n",
       "138                          Anguilla  \n",
       "199                           Burundi  \n",
       "202                          Anguilla  \n",
       "274  Saint Vincent and the Grenadines  \n",
       "320         Bouvet Island (Bouvetoya)  \n",
       "400                    Czech Republic  \n",
       "418                           Ecuador  \n",
       "444       Falkland Islands (Malvinas)  \n",
       "509                           Burundi  \n",
       "547  Saint Vincent and the Grenadines  \n",
       "657         Saint Pierre and Miquelon  \n",
       "676       Falkland Islands (Malvinas)  \n",
       "705                           Ecuador  \n",
       "805                           Burundi  \n",
       "860                          Anguilla  \n",
       "864         Bouvet Island (Bouvetoya)  \n",
       "884         Saint Pierre and Miquelon  \n",
       "899          Northern Mariana Islands  \n",
       "981                           Burundi  "
      ]
     },
     "execution_count": 6,
     "metadata": {},
     "output_type": "execute_result"
    }
   ],
   "source": [
    "negative_quantities=df[df['Quantity']<0]\n",
    "print(len(negative_quantities))\n",
    "negative_quantities"
   ]
  },
  {
   "cell_type": "code",
   "execution_count": 7,
   "id": "96f8dc65",
   "metadata": {},
   "outputs": [
    {
     "name": "stdout",
     "output_type": "stream",
     "text": [
      "10\n"
     ]
    },
    {
     "data": {
      "application/vnd.microsoft.datawrangler.viewer.v0+json": {
       "columns": [
        {
         "name": "index",
         "rawType": "int64",
         "type": "integer"
        },
        {
         "name": "InvoiceNo",
         "rawType": "object",
         "type": "string"
        },
        {
         "name": "StockCode",
         "rawType": "object",
         "type": "string"
        },
        {
         "name": "Description",
         "rawType": "object",
         "type": "string"
        },
        {
         "name": "Category",
         "rawType": "object",
         "type": "string"
        },
        {
         "name": "Quantity",
         "rawType": "int64",
         "type": "integer"
        },
        {
         "name": "InvoiceDate",
         "rawType": "datetime64[ns]",
         "type": "datetime"
        },
        {
         "name": "UnitPrice",
         "rawType": "float64",
         "type": "float"
        },
        {
         "name": "CustomerID",
         "rawType": "object",
         "type": "string"
        },
        {
         "name": "Country",
         "rawType": "object",
         "type": "string"
        }
       ],
       "ref": "5495aef5-699b-4738-9874-eb7cfcc8193f",
       "rows": [
        [
         "42",
         "902784",
         "47388",
         "Picture Frame",
         "Travel",
         "31",
         "2024-06-02 02:21:29",
         "-6.66",
         "14207",
         "Falkland Islands (Malvinas)"
        ],
        [
         "78",
         "282256",
         "50306",
         "Belt",
         "Clothing",
         "11",
         "2025-06-15 00:25:34",
         "-5.72",
         "44993",
         "Falkland Islands (Malvinas)"
        ],
        [
         "279",
         "247442",
         "50306",
         "Belt",
         "Clothing",
         "16",
         "2023-11-13 23:40:54",
         "-6.36",
         "35203",
         "Burundi"
        ],
        [
         "322",
         "606676",
         "56438",
         "Book",
         "Sports",
         "2",
         "2023-10-24 06:21:37",
         "-4.76",
         "13278",
         "Northern Mariana Islands"
        ],
        [
         "512",
         "753898",
         "77391",
         "Mirror",
         "Travel",
         "7",
         "2024-10-14 16:50:10",
         "-0.51",
         "80284",
         "Ecuador"
        ],
        [
         "530",
         "656829",
         "46509",
         "Power Bank",
         "Electronics",
         "44",
         "2025-05-30 04:30:59",
         "-3.03",
         "46463",
         "Czech Republic"
        ],
        [
         "605",
         "508422",
         "36365",
         "Desk Organizer",
         "Sports",
         "35",
         "2024-04-26 00:23:09",
         "-3.16",
         "81482",
         "Burundi"
        ],
        [
         "662",
         "137812",
         "50306",
         "Belt",
         "Clothing",
         "42",
         "2024-03-05 04:39:06",
         "-8.5",
         "38221",
         "Burundi"
        ],
        [
         "807",
         "563339",
         "92719",
         "Calculator",
         "Electronics",
         "39",
         "2023-12-26 14:45:55",
         "-1.62",
         "38221",
         "Czech Republic"
        ],
        [
         "919",
         "116389",
         "22833",
         "Plate",
         "Office Supplies",
         "6",
         "2024-01-29 10:18:56",
         "-8.3",
         "65302",
         "Czech Republic"
        ]
       ],
       "shape": {
        "columns": 9,
        "rows": 10
       }
      },
      "text/html": [
       "<div>\n",
       "<style scoped>\n",
       "    .dataframe tbody tr th:only-of-type {\n",
       "        vertical-align: middle;\n",
       "    }\n",
       "\n",
       "    .dataframe tbody tr th {\n",
       "        vertical-align: top;\n",
       "    }\n",
       "\n",
       "    .dataframe thead th {\n",
       "        text-align: right;\n",
       "    }\n",
       "</style>\n",
       "<table border=\"1\" class=\"dataframe\">\n",
       "  <thead>\n",
       "    <tr style=\"text-align: right;\">\n",
       "      <th></th>\n",
       "      <th>InvoiceNo</th>\n",
       "      <th>StockCode</th>\n",
       "      <th>Description</th>\n",
       "      <th>Category</th>\n",
       "      <th>Quantity</th>\n",
       "      <th>InvoiceDate</th>\n",
       "      <th>UnitPrice</th>\n",
       "      <th>CustomerID</th>\n",
       "      <th>Country</th>\n",
       "    </tr>\n",
       "  </thead>\n",
       "  <tbody>\n",
       "    <tr>\n",
       "      <th>42</th>\n",
       "      <td>902784</td>\n",
       "      <td>47388</td>\n",
       "      <td>Picture Frame</td>\n",
       "      <td>Travel</td>\n",
       "      <td>31</td>\n",
       "      <td>2024-06-02 02:21:29</td>\n",
       "      <td>-6.66</td>\n",
       "      <td>14207</td>\n",
       "      <td>Falkland Islands (Malvinas)</td>\n",
       "    </tr>\n",
       "    <tr>\n",
       "      <th>78</th>\n",
       "      <td>282256</td>\n",
       "      <td>50306</td>\n",
       "      <td>Belt</td>\n",
       "      <td>Clothing</td>\n",
       "      <td>11</td>\n",
       "      <td>2025-06-15 00:25:34</td>\n",
       "      <td>-5.72</td>\n",
       "      <td>44993</td>\n",
       "      <td>Falkland Islands (Malvinas)</td>\n",
       "    </tr>\n",
       "    <tr>\n",
       "      <th>279</th>\n",
       "      <td>247442</td>\n",
       "      <td>50306</td>\n",
       "      <td>Belt</td>\n",
       "      <td>Clothing</td>\n",
       "      <td>16</td>\n",
       "      <td>2023-11-13 23:40:54</td>\n",
       "      <td>-6.36</td>\n",
       "      <td>35203</td>\n",
       "      <td>Burundi</td>\n",
       "    </tr>\n",
       "    <tr>\n",
       "      <th>322</th>\n",
       "      <td>606676</td>\n",
       "      <td>56438</td>\n",
       "      <td>Book</td>\n",
       "      <td>Sports</td>\n",
       "      <td>2</td>\n",
       "      <td>2023-10-24 06:21:37</td>\n",
       "      <td>-4.76</td>\n",
       "      <td>13278</td>\n",
       "      <td>Northern Mariana Islands</td>\n",
       "    </tr>\n",
       "    <tr>\n",
       "      <th>512</th>\n",
       "      <td>753898</td>\n",
       "      <td>77391</td>\n",
       "      <td>Mirror</td>\n",
       "      <td>Travel</td>\n",
       "      <td>7</td>\n",
       "      <td>2024-10-14 16:50:10</td>\n",
       "      <td>-0.51</td>\n",
       "      <td>80284</td>\n",
       "      <td>Ecuador</td>\n",
       "    </tr>\n",
       "    <tr>\n",
       "      <th>530</th>\n",
       "      <td>656829</td>\n",
       "      <td>46509</td>\n",
       "      <td>Power Bank</td>\n",
       "      <td>Electronics</td>\n",
       "      <td>44</td>\n",
       "      <td>2025-05-30 04:30:59</td>\n",
       "      <td>-3.03</td>\n",
       "      <td>46463</td>\n",
       "      <td>Czech Republic</td>\n",
       "    </tr>\n",
       "    <tr>\n",
       "      <th>605</th>\n",
       "      <td>508422</td>\n",
       "      <td>36365</td>\n",
       "      <td>Desk Organizer</td>\n",
       "      <td>Sports</td>\n",
       "      <td>35</td>\n",
       "      <td>2024-04-26 00:23:09</td>\n",
       "      <td>-3.16</td>\n",
       "      <td>81482</td>\n",
       "      <td>Burundi</td>\n",
       "    </tr>\n",
       "    <tr>\n",
       "      <th>662</th>\n",
       "      <td>137812</td>\n",
       "      <td>50306</td>\n",
       "      <td>Belt</td>\n",
       "      <td>Clothing</td>\n",
       "      <td>42</td>\n",
       "      <td>2024-03-05 04:39:06</td>\n",
       "      <td>-8.50</td>\n",
       "      <td>38221</td>\n",
       "      <td>Burundi</td>\n",
       "    </tr>\n",
       "    <tr>\n",
       "      <th>807</th>\n",
       "      <td>563339</td>\n",
       "      <td>92719</td>\n",
       "      <td>Calculator</td>\n",
       "      <td>Electronics</td>\n",
       "      <td>39</td>\n",
       "      <td>2023-12-26 14:45:55</td>\n",
       "      <td>-1.62</td>\n",
       "      <td>38221</td>\n",
       "      <td>Czech Republic</td>\n",
       "    </tr>\n",
       "    <tr>\n",
       "      <th>919</th>\n",
       "      <td>116389</td>\n",
       "      <td>22833</td>\n",
       "      <td>Plate</td>\n",
       "      <td>Office Supplies</td>\n",
       "      <td>6</td>\n",
       "      <td>2024-01-29 10:18:56</td>\n",
       "      <td>-8.30</td>\n",
       "      <td>65302</td>\n",
       "      <td>Czech Republic</td>\n",
       "    </tr>\n",
       "  </tbody>\n",
       "</table>\n",
       "</div>"
      ],
      "text/plain": [
       "    InvoiceNo StockCode     Description         Category  Quantity  \\\n",
       "42     902784     47388   Picture Frame           Travel        31   \n",
       "78     282256     50306            Belt         Clothing        11   \n",
       "279    247442     50306            Belt         Clothing        16   \n",
       "322    606676     56438            Book           Sports         2   \n",
       "512    753898     77391          Mirror           Travel         7   \n",
       "530    656829     46509      Power Bank      Electronics        44   \n",
       "605    508422     36365  Desk Organizer           Sports        35   \n",
       "662    137812     50306            Belt         Clothing        42   \n",
       "807    563339     92719      Calculator      Electronics        39   \n",
       "919    116389     22833           Plate  Office Supplies         6   \n",
       "\n",
       "            InvoiceDate  UnitPrice CustomerID                      Country  \n",
       "42  2024-06-02 02:21:29      -6.66      14207  Falkland Islands (Malvinas)  \n",
       "78  2025-06-15 00:25:34      -5.72      44993  Falkland Islands (Malvinas)  \n",
       "279 2023-11-13 23:40:54      -6.36      35203                      Burundi  \n",
       "322 2023-10-24 06:21:37      -4.76      13278     Northern Mariana Islands  \n",
       "512 2024-10-14 16:50:10      -0.51      80284                      Ecuador  \n",
       "530 2025-05-30 04:30:59      -3.03      46463               Czech Republic  \n",
       "605 2024-04-26 00:23:09      -3.16      81482                      Burundi  \n",
       "662 2024-03-05 04:39:06      -8.50      38221                      Burundi  \n",
       "807 2023-12-26 14:45:55      -1.62      38221               Czech Republic  \n",
       "919 2024-01-29 10:18:56      -8.30      65302               Czech Republic  "
      ]
     },
     "execution_count": 7,
     "metadata": {},
     "output_type": "execute_result"
    }
   ],
   "source": [
    "negative_prices=df[df['UnitPrice']<0]\n",
    "print(len(negative_prices))\n",
    "negative_prices"
   ]
  },
  {
   "cell_type": "markdown",
   "id": "dd8f22d5",
   "metadata": {},
   "source": [
    "# DATA TRANSFORMATION"
   ]
  },
  {
   "cell_type": "markdown",
   "id": "1af24413",
   "metadata": {},
   "source": [
    "### Removing rows with negative Quantity or UnitPrice"
   ]
  },
  {
   "cell_type": "code",
   "execution_count": 8,
   "id": "318d5e42",
   "metadata": {},
   "outputs": [
    {
     "name": "stdout",
     "output_type": "stream",
     "text": [
      "Rows before cleaning: 1000\n",
      "Rows after cleaning: 968\n"
     ]
    }
   ],
   "source": [
    "df_cleaned = df[(df[\"Quantity\"] >= 0) & (df[\"UnitPrice\"] > 0)]\n",
    "\n",
    "print(f\"Rows before cleaning: {len(df)}\")\n",
    "print(f\"Rows after cleaning: {len(df_cleaned)}\")"
   ]
  },
  {
   "cell_type": "markdown",
   "id": "8702c908",
   "metadata": {},
   "source": [
    "### ADDING THE CALCULATED COLUMN TOTAL SALES"
   ]
  },
  {
   "cell_type": "code",
   "execution_count": 9,
   "id": "5f5e060f",
   "metadata": {},
   "outputs": [
    {
     "name": "stderr",
     "output_type": "stream",
     "text": [
      "C:\\Users\\Admin\\AppData\\Local\\Temp\\ipykernel_31864\\1678482026.py:1: SettingWithCopyWarning: \n",
      "A value is trying to be set on a copy of a slice from a DataFrame.\n",
      "Try using .loc[row_indexer,col_indexer] = value instead\n",
      "\n",
      "See the caveats in the documentation: https://pandas.pydata.org/pandas-docs/stable/user_guide/indexing.html#returning-a-view-versus-a-copy\n",
      "  df_cleaned[\"TotalSales\"] = df_cleaned['Quantity'] * df_cleaned['UnitPrice']\n",
      "C:\\Users\\Admin\\AppData\\Local\\Temp\\ipykernel_31864\\1678482026.py:3: SettingWithCopyWarning: \n",
      "A value is trying to be set on a copy of a slice from a DataFrame.\n",
      "Try using .loc[row_indexer,col_indexer] = value instead\n",
      "\n",
      "See the caveats in the documentation: https://pandas.pydata.org/pandas-docs/stable/user_guide/indexing.html#returning-a-view-versus-a-copy\n",
      "  df_cleaned[\"TotalSales\"] = df_cleaned[\"TotalSales\"].round(2)\n"
     ]
    },
    {
     "data": {
      "application/vnd.microsoft.datawrangler.viewer.v0+json": {
       "columns": [
        {
         "name": "index",
         "rawType": "int64",
         "type": "integer"
        },
        {
         "name": "InvoiceNo",
         "rawType": "object",
         "type": "string"
        },
        {
         "name": "StockCode",
         "rawType": "object",
         "type": "string"
        },
        {
         "name": "Description",
         "rawType": "object",
         "type": "string"
        },
        {
         "name": "Category",
         "rawType": "object",
         "type": "string"
        },
        {
         "name": "Quantity",
         "rawType": "int64",
         "type": "integer"
        },
        {
         "name": "InvoiceDate",
         "rawType": "datetime64[ns]",
         "type": "datetime"
        },
        {
         "name": "UnitPrice",
         "rawType": "float64",
         "type": "float"
        },
        {
         "name": "CustomerID",
         "rawType": "object",
         "type": "string"
        },
        {
         "name": "Country",
         "rawType": "object",
         "type": "string"
        },
        {
         "name": "TotalSales",
         "rawType": "float64",
         "type": "float"
        }
       ],
       "ref": "801372f8-cb96-4627-ab1a-345ed2fb447f",
       "rows": [
        [
         "0",
         "800305",
         "69470",
         "Pen",
         "Travel",
         "20",
         "2025-01-18 14:35:33",
         "1.32",
         "13905",
         "Saint Pierre and Miquelon",
         "26.4"
        ],
        [
         "1",
         "240814",
         "44522",
         "Laptop Sleeve",
         "Clothing",
         "7",
         "2025-03-09 07:02:50",
         "97.22",
         "13478",
         "Saint Vincent and the Grenadines",
         "680.54"
        ]
       ],
       "shape": {
        "columns": 10,
        "rows": 2
       }
      },
      "text/html": [
       "<div>\n",
       "<style scoped>\n",
       "    .dataframe tbody tr th:only-of-type {\n",
       "        vertical-align: middle;\n",
       "    }\n",
       "\n",
       "    .dataframe tbody tr th {\n",
       "        vertical-align: top;\n",
       "    }\n",
       "\n",
       "    .dataframe thead th {\n",
       "        text-align: right;\n",
       "    }\n",
       "</style>\n",
       "<table border=\"1\" class=\"dataframe\">\n",
       "  <thead>\n",
       "    <tr style=\"text-align: right;\">\n",
       "      <th></th>\n",
       "      <th>InvoiceNo</th>\n",
       "      <th>StockCode</th>\n",
       "      <th>Description</th>\n",
       "      <th>Category</th>\n",
       "      <th>Quantity</th>\n",
       "      <th>InvoiceDate</th>\n",
       "      <th>UnitPrice</th>\n",
       "      <th>CustomerID</th>\n",
       "      <th>Country</th>\n",
       "      <th>TotalSales</th>\n",
       "    </tr>\n",
       "  </thead>\n",
       "  <tbody>\n",
       "    <tr>\n",
       "      <th>0</th>\n",
       "      <td>800305</td>\n",
       "      <td>69470</td>\n",
       "      <td>Pen</td>\n",
       "      <td>Travel</td>\n",
       "      <td>20</td>\n",
       "      <td>2025-01-18 14:35:33</td>\n",
       "      <td>1.32</td>\n",
       "      <td>13905</td>\n",
       "      <td>Saint Pierre and Miquelon</td>\n",
       "      <td>26.40</td>\n",
       "    </tr>\n",
       "    <tr>\n",
       "      <th>1</th>\n",
       "      <td>240814</td>\n",
       "      <td>44522</td>\n",
       "      <td>Laptop Sleeve</td>\n",
       "      <td>Clothing</td>\n",
       "      <td>7</td>\n",
       "      <td>2025-03-09 07:02:50</td>\n",
       "      <td>97.22</td>\n",
       "      <td>13478</td>\n",
       "      <td>Saint Vincent and the Grenadines</td>\n",
       "      <td>680.54</td>\n",
       "    </tr>\n",
       "  </tbody>\n",
       "</table>\n",
       "</div>"
      ],
      "text/plain": [
       "  InvoiceNo StockCode    Description  Category  Quantity         InvoiceDate  \\\n",
       "0    800305     69470            Pen    Travel        20 2025-01-18 14:35:33   \n",
       "1    240814     44522  Laptop Sleeve  Clothing         7 2025-03-09 07:02:50   \n",
       "\n",
       "   UnitPrice CustomerID                           Country  TotalSales  \n",
       "0       1.32      13905         Saint Pierre and Miquelon       26.40  \n",
       "1      97.22      13478  Saint Vincent and the Grenadines      680.54  "
      ]
     },
     "execution_count": 9,
     "metadata": {},
     "output_type": "execute_result"
    }
   ],
   "source": [
    "df_cleaned[\"TotalSales\"] = df_cleaned['Quantity'] * df_cleaned['UnitPrice']\n",
    "# round the TotalSales to 2 decimal places\n",
    "df_cleaned[\"TotalSales\"] = df_cleaned[\"TotalSales\"].round(2)\n",
    "df_cleaned.head(2)"
   ]
  },
  {
   "cell_type": "markdown",
   "id": "b0168c5b",
   "metadata": {},
   "source": [
    "### TOTAL REVENUE GENERATED PER COUNTRY"
   ]
  },
  {
   "cell_type": "code",
   "execution_count": 10,
   "id": "3157ad6e",
   "metadata": {},
   "outputs": [
    {
     "data": {
      "application/vnd.microsoft.datawrangler.viewer.v0+json": {
       "columns": [
        {
         "name": "index",
         "rawType": "int64",
         "type": "integer"
        },
        {
         "name": "Country",
         "rawType": "object",
         "type": "string"
        },
        {
         "name": "TotalSales",
         "rawType": "float64",
         "type": "float"
        }
       ],
       "ref": "b09955bf-284f-49cd-a769-7fd046805b41",
       "rows": [
        [
         "4",
         "Czech Republic",
         "217043.3"
        ],
        [
         "6",
         "Falkland Islands (Malvinas)",
         "214272.24"
        ],
        [
         "3",
         "Burundi",
         "192193.78"
        ],
        [
         "9",
         "Saint Vincent and the Grenadines",
         "175347.9"
        ],
        [
         "0",
         "Anguilla",
         "166530.65"
        ]
       ],
       "shape": {
        "columns": 2,
        "rows": 5
       }
      },
      "text/html": [
       "<div>\n",
       "<style scoped>\n",
       "    .dataframe tbody tr th:only-of-type {\n",
       "        vertical-align: middle;\n",
       "    }\n",
       "\n",
       "    .dataframe tbody tr th {\n",
       "        vertical-align: top;\n",
       "    }\n",
       "\n",
       "    .dataframe thead th {\n",
       "        text-align: right;\n",
       "    }\n",
       "</style>\n",
       "<table border=\"1\" class=\"dataframe\">\n",
       "  <thead>\n",
       "    <tr style=\"text-align: right;\">\n",
       "      <th></th>\n",
       "      <th>Country</th>\n",
       "      <th>TotalSales</th>\n",
       "    </tr>\n",
       "  </thead>\n",
       "  <tbody>\n",
       "    <tr>\n",
       "      <th>4</th>\n",
       "      <td>Czech Republic</td>\n",
       "      <td>217043.30</td>\n",
       "    </tr>\n",
       "    <tr>\n",
       "      <th>6</th>\n",
       "      <td>Falkland Islands (Malvinas)</td>\n",
       "      <td>214272.24</td>\n",
       "    </tr>\n",
       "    <tr>\n",
       "      <th>3</th>\n",
       "      <td>Burundi</td>\n",
       "      <td>192193.78</td>\n",
       "    </tr>\n",
       "    <tr>\n",
       "      <th>9</th>\n",
       "      <td>Saint Vincent and the Grenadines</td>\n",
       "      <td>175347.90</td>\n",
       "    </tr>\n",
       "    <tr>\n",
       "      <th>0</th>\n",
       "      <td>Anguilla</td>\n",
       "      <td>166530.65</td>\n",
       "    </tr>\n",
       "  </tbody>\n",
       "</table>\n",
       "</div>"
      ],
      "text/plain": [
       "                            Country  TotalSales\n",
       "4                    Czech Republic   217043.30\n",
       "6       Falkland Islands (Malvinas)   214272.24\n",
       "3                           Burundi   192193.78\n",
       "9  Saint Vincent and the Grenadines   175347.90\n",
       "0                          Anguilla   166530.65"
      ]
     },
     "execution_count": 10,
     "metadata": {},
     "output_type": "execute_result"
    }
   ],
   "source": [
    "total_revenue_per_country = df_cleaned.groupby('Country')['TotalSales'].sum().reset_index()\n",
    "total_revenue_per_country = total_revenue_per_country.sort_values(by='TotalSales', ascending=False)\n",
    "total_revenue_per_country.head()"
   ]
  },
  {
   "cell_type": "markdown",
   "id": "8dc40154",
   "metadata": {},
   "source": [
    "### TOTAL SALES PER PRODUCT"
   ]
  },
  {
   "cell_type": "code",
   "execution_count": 11,
   "id": "b5e4ada5",
   "metadata": {},
   "outputs": [
    {
     "data": {
      "application/vnd.microsoft.datawrangler.viewer.v0+json": {
       "columns": [
        {
         "name": "index",
         "rawType": "int64",
         "type": "integer"
        },
        {
         "name": "Description",
         "rawType": "object",
         "type": "string"
        },
        {
         "name": "TotalSales",
         "rawType": "float64",
         "type": "float"
        }
       ],
       "ref": "a4b3cf7d-52eb-43bb-8123-39ba36473e59",
       "rows": [
        [
         "19",
         "Gloves",
         "105509.25"
        ],
        [
         "35",
         "Raincoat",
         "94506.75"
        ],
        [
         "21",
         "Hoodie",
         "92822.73"
        ],
        [
         "17",
         "Flashlight",
         "75170.26"
        ],
        [
         "8",
         "Candle",
         "73999.75"
        ]
       ],
       "shape": {
        "columns": 2,
        "rows": 5
       }
      },
      "text/html": [
       "<div>\n",
       "<style scoped>\n",
       "    .dataframe tbody tr th:only-of-type {\n",
       "        vertical-align: middle;\n",
       "    }\n",
       "\n",
       "    .dataframe tbody tr th {\n",
       "        vertical-align: top;\n",
       "    }\n",
       "\n",
       "    .dataframe thead th {\n",
       "        text-align: right;\n",
       "    }\n",
       "</style>\n",
       "<table border=\"1\" class=\"dataframe\">\n",
       "  <thead>\n",
       "    <tr style=\"text-align: right;\">\n",
       "      <th></th>\n",
       "      <th>Description</th>\n",
       "      <th>TotalSales</th>\n",
       "    </tr>\n",
       "  </thead>\n",
       "  <tbody>\n",
       "    <tr>\n",
       "      <th>19</th>\n",
       "      <td>Gloves</td>\n",
       "      <td>105509.25</td>\n",
       "    </tr>\n",
       "    <tr>\n",
       "      <th>35</th>\n",
       "      <td>Raincoat</td>\n",
       "      <td>94506.75</td>\n",
       "    </tr>\n",
       "    <tr>\n",
       "      <th>21</th>\n",
       "      <td>Hoodie</td>\n",
       "      <td>92822.73</td>\n",
       "    </tr>\n",
       "    <tr>\n",
       "      <th>17</th>\n",
       "      <td>Flashlight</td>\n",
       "      <td>75170.26</td>\n",
       "    </tr>\n",
       "    <tr>\n",
       "      <th>8</th>\n",
       "      <td>Candle</td>\n",
       "      <td>73999.75</td>\n",
       "    </tr>\n",
       "  </tbody>\n",
       "</table>\n",
       "</div>"
      ],
      "text/plain": [
       "   Description  TotalSales\n",
       "19      Gloves   105509.25\n",
       "35    Raincoat    94506.75\n",
       "21      Hoodie    92822.73\n",
       "17  Flashlight    75170.26\n",
       "8       Candle    73999.75"
      ]
     },
     "execution_count": 11,
     "metadata": {},
     "output_type": "execute_result"
    }
   ],
   "source": [
    "total_revenue_per_Description = df_cleaned.groupby('Description')['TotalSales'].sum().reset_index()\n",
    "total_revenue_per_Description = total_revenue_per_Description.sort_values(by='TotalSales', ascending=False)\n",
    "total_revenue_per_Description.head()"
   ]
  },
  {
   "cell_type": "markdown",
   "id": "abe0732e",
   "metadata": {},
   "source": [
    "### TOTAL SALES PER CUSTOMER"
   ]
  },
  {
   "cell_type": "code",
   "execution_count": 12,
   "id": "f856ea92",
   "metadata": {},
   "outputs": [
    {
     "data": {
      "application/vnd.microsoft.datawrangler.viewer.v0+json": {
       "columns": [
        {
         "name": "index",
         "rawType": "int64",
         "type": "integer"
        },
        {
         "name": "CustomerID",
         "rawType": "object",
         "type": "string"
        },
        {
         "name": "TotalSales",
         "rawType": "float64",
         "type": "float"
        }
       ],
       "ref": "9e3c3bc9-d381-4377-ad9a-3a65f65d7fc6",
       "rows": [
        [
         "93",
         "94939",
         "28550.27"
        ],
        [
         "96",
         "97841",
         "27808.98"
        ],
        [
         "82",
         "85674",
         "27179.0"
        ],
        [
         "66",
         "62581",
         "26771.87"
        ],
        [
         "95",
         "96673",
         "26211.9"
        ]
       ],
       "shape": {
        "columns": 2,
        "rows": 5
       }
      },
      "text/html": [
       "<div>\n",
       "<style scoped>\n",
       "    .dataframe tbody tr th:only-of-type {\n",
       "        vertical-align: middle;\n",
       "    }\n",
       "\n",
       "    .dataframe tbody tr th {\n",
       "        vertical-align: top;\n",
       "    }\n",
       "\n",
       "    .dataframe thead th {\n",
       "        text-align: right;\n",
       "    }\n",
       "</style>\n",
       "<table border=\"1\" class=\"dataframe\">\n",
       "  <thead>\n",
       "    <tr style=\"text-align: right;\">\n",
       "      <th></th>\n",
       "      <th>CustomerID</th>\n",
       "      <th>TotalSales</th>\n",
       "    </tr>\n",
       "  </thead>\n",
       "  <tbody>\n",
       "    <tr>\n",
       "      <th>93</th>\n",
       "      <td>94939</td>\n",
       "      <td>28550.27</td>\n",
       "    </tr>\n",
       "    <tr>\n",
       "      <th>96</th>\n",
       "      <td>97841</td>\n",
       "      <td>27808.98</td>\n",
       "    </tr>\n",
       "    <tr>\n",
       "      <th>82</th>\n",
       "      <td>85674</td>\n",
       "      <td>27179.00</td>\n",
       "    </tr>\n",
       "    <tr>\n",
       "      <th>66</th>\n",
       "      <td>62581</td>\n",
       "      <td>26771.87</td>\n",
       "    </tr>\n",
       "    <tr>\n",
       "      <th>95</th>\n",
       "      <td>96673</td>\n",
       "      <td>26211.90</td>\n",
       "    </tr>\n",
       "  </tbody>\n",
       "</table>\n",
       "</div>"
      ],
      "text/plain": [
       "   CustomerID  TotalSales\n",
       "93      94939    28550.27\n",
       "96      97841    27808.98\n",
       "82      85674    27179.00\n",
       "66      62581    26771.87\n",
       "95      96673    26211.90"
      ]
     },
     "execution_count": 12,
     "metadata": {},
     "output_type": "execute_result"
    }
   ],
   "source": [
    "total_sales_per_customer = df_cleaned.groupby('CustomerID')['TotalSales'].sum().reset_index()\n",
    "total_sales_per_customer = total_sales_per_customer.sort_values(by='TotalSales', ascending=False)\n",
    "total_sales_per_customer.head()"
   ]
  },
  {
   "cell_type": "markdown",
   "id": "15cf9a81",
   "metadata": {},
   "source": [
    "### FILTERING THE DATA SET TO GET THE RECORDS OF LAST YEAR"
   ]
  },
  {
   "cell_type": "code",
   "execution_count": 13,
   "id": "d4368250",
   "metadata": {},
   "outputs": [
    {
     "data": {
      "application/vnd.microsoft.datawrangler.viewer.v0+json": {
       "columns": [
        {
         "name": "index",
         "rawType": "int64",
         "type": "integer"
        },
        {
         "name": "InvoiceNo",
         "rawType": "object",
         "type": "string"
        },
        {
         "name": "StockCode",
         "rawType": "object",
         "type": "string"
        },
        {
         "name": "Description",
         "rawType": "object",
         "type": "string"
        },
        {
         "name": "Category",
         "rawType": "object",
         "type": "string"
        },
        {
         "name": "Quantity",
         "rawType": "int64",
         "type": "integer"
        },
        {
         "name": "InvoiceDate",
         "rawType": "datetime64[ns]",
         "type": "datetime"
        },
        {
         "name": "UnitPrice",
         "rawType": "float64",
         "type": "float"
        },
        {
         "name": "CustomerID",
         "rawType": "object",
         "type": "string"
        },
        {
         "name": "Country",
         "rawType": "object",
         "type": "string"
        },
        {
         "name": "TotalSales",
         "rawType": "float64",
         "type": "float"
        }
       ],
       "ref": "79955c29-6423-4fda-99d6-fec25bd15dce",
       "rows": [
        [
         "3",
         "629959",
         "49117",
         "Camping Tent",
         "Office Supplies",
         "4",
         "2024-10-08 14:22:08",
         "84.33",
         "91070",
         "Burundi",
         "337.32"
        ],
        [
         "5",
         "563298",
         "31174",
         "Floor Mat",
         "Office Supplies",
         "28",
         "2024-11-12 15:34:41",
         "54.4",
         "22280",
         "Bouvet Island (Bouvetoya)",
         "1523.2"
        ],
        [
         "6",
         "824586",
         "10074",
         "Cutlery Set",
         "Sports",
         "35",
         "2024-07-04 17:11:34",
         "60.3",
         "80284",
         "Czech Republic",
         "2110.5"
        ],
        [
         "10",
         "938742",
         "73699",
         "Scarf",
         "Office Supplies",
         "27",
         "2024-01-28 19:42:26",
         "81.79",
         "17331",
         "Saint Pierre and Miquelon",
         "2208.33"
        ],
        [
         "11",
         "920391",
         "26483",
         "Desk Lamp",
         "Sports",
         "43",
         "2024-02-08 17:06:48",
         "13.71",
         "65392",
         "Saint Vincent and the Grenadines",
         "589.53"
        ]
       ],
       "shape": {
        "columns": 10,
        "rows": 5
       }
      },
      "text/html": [
       "<div>\n",
       "<style scoped>\n",
       "    .dataframe tbody tr th:only-of-type {\n",
       "        vertical-align: middle;\n",
       "    }\n",
       "\n",
       "    .dataframe tbody tr th {\n",
       "        vertical-align: top;\n",
       "    }\n",
       "\n",
       "    .dataframe thead th {\n",
       "        text-align: right;\n",
       "    }\n",
       "</style>\n",
       "<table border=\"1\" class=\"dataframe\">\n",
       "  <thead>\n",
       "    <tr style=\"text-align: right;\">\n",
       "      <th></th>\n",
       "      <th>InvoiceNo</th>\n",
       "      <th>StockCode</th>\n",
       "      <th>Description</th>\n",
       "      <th>Category</th>\n",
       "      <th>Quantity</th>\n",
       "      <th>InvoiceDate</th>\n",
       "      <th>UnitPrice</th>\n",
       "      <th>CustomerID</th>\n",
       "      <th>Country</th>\n",
       "      <th>TotalSales</th>\n",
       "    </tr>\n",
       "  </thead>\n",
       "  <tbody>\n",
       "    <tr>\n",
       "      <th>3</th>\n",
       "      <td>629959</td>\n",
       "      <td>49117</td>\n",
       "      <td>Camping Tent</td>\n",
       "      <td>Office Supplies</td>\n",
       "      <td>4</td>\n",
       "      <td>2024-10-08 14:22:08</td>\n",
       "      <td>84.33</td>\n",
       "      <td>91070</td>\n",
       "      <td>Burundi</td>\n",
       "      <td>337.32</td>\n",
       "    </tr>\n",
       "    <tr>\n",
       "      <th>5</th>\n",
       "      <td>563298</td>\n",
       "      <td>31174</td>\n",
       "      <td>Floor Mat</td>\n",
       "      <td>Office Supplies</td>\n",
       "      <td>28</td>\n",
       "      <td>2024-11-12 15:34:41</td>\n",
       "      <td>54.40</td>\n",
       "      <td>22280</td>\n",
       "      <td>Bouvet Island (Bouvetoya)</td>\n",
       "      <td>1523.20</td>\n",
       "    </tr>\n",
       "    <tr>\n",
       "      <th>6</th>\n",
       "      <td>824586</td>\n",
       "      <td>10074</td>\n",
       "      <td>Cutlery Set</td>\n",
       "      <td>Sports</td>\n",
       "      <td>35</td>\n",
       "      <td>2024-07-04 17:11:34</td>\n",
       "      <td>60.30</td>\n",
       "      <td>80284</td>\n",
       "      <td>Czech Republic</td>\n",
       "      <td>2110.50</td>\n",
       "    </tr>\n",
       "    <tr>\n",
       "      <th>10</th>\n",
       "      <td>938742</td>\n",
       "      <td>73699</td>\n",
       "      <td>Scarf</td>\n",
       "      <td>Office Supplies</td>\n",
       "      <td>27</td>\n",
       "      <td>2024-01-28 19:42:26</td>\n",
       "      <td>81.79</td>\n",
       "      <td>17331</td>\n",
       "      <td>Saint Pierre and Miquelon</td>\n",
       "      <td>2208.33</td>\n",
       "    </tr>\n",
       "    <tr>\n",
       "      <th>11</th>\n",
       "      <td>920391</td>\n",
       "      <td>26483</td>\n",
       "      <td>Desk Lamp</td>\n",
       "      <td>Sports</td>\n",
       "      <td>43</td>\n",
       "      <td>2024-02-08 17:06:48</td>\n",
       "      <td>13.71</td>\n",
       "      <td>65392</td>\n",
       "      <td>Saint Vincent and the Grenadines</td>\n",
       "      <td>589.53</td>\n",
       "    </tr>\n",
       "  </tbody>\n",
       "</table>\n",
       "</div>"
      ],
      "text/plain": [
       "   InvoiceNo StockCode   Description         Category  Quantity  \\\n",
       "3     629959     49117  Camping Tent  Office Supplies         4   \n",
       "5     563298     31174     Floor Mat  Office Supplies        28   \n",
       "6     824586     10074   Cutlery Set           Sports        35   \n",
       "10    938742     73699         Scarf  Office Supplies        27   \n",
       "11    920391     26483     Desk Lamp           Sports        43   \n",
       "\n",
       "           InvoiceDate  UnitPrice CustomerID  \\\n",
       "3  2024-10-08 14:22:08      84.33      91070   \n",
       "5  2024-11-12 15:34:41      54.40      22280   \n",
       "6  2024-07-04 17:11:34      60.30      80284   \n",
       "10 2024-01-28 19:42:26      81.79      17331   \n",
       "11 2024-02-08 17:06:48      13.71      65392   \n",
       "\n",
       "                             Country  TotalSales  \n",
       "3                            Burundi      337.32  \n",
       "5          Bouvet Island (Bouvetoya)     1523.20  \n",
       "6                     Czech Republic     2110.50  \n",
       "10         Saint Pierre and Miquelon     2208.33  \n",
       "11  Saint Vincent and the Grenadines      589.53  "
      ]
     },
     "execution_count": 13,
     "metadata": {},
     "output_type": "execute_result"
    }
   ],
   "source": [
    "last_year = datetime.now().year - 1\n",
    "df_last_year = df_cleaned[df_cleaned['InvoiceDate'].dt.year == last_year]\n",
    "df_last_year.head()"
   ]
  },
  {
   "cell_type": "markdown",
   "id": "16187656",
   "metadata": {},
   "source": [
    "# LOAD"
   ]
  },
  {
   "cell_type": "code",
   "execution_count": 14,
   "id": "aec60a74",
   "metadata": {},
   "outputs": [],
   "source": [
    "import sqlite3"
   ]
  },
  {
   "cell_type": "code",
   "execution_count": 15,
   "id": "313cd038",
   "metadata": {},
   "outputs": [
    {
     "name": "stdout",
     "output_type": "stream",
     "text": [
      "CustomerDim rows: 571\n",
      "TimeDim rows: 968\n",
      "ProductDim rows: 50\n",
      "SalesFact rows: 968\n",
      "✅ Data successfully loaded into retail_dw.db\n"
     ]
    }
   ],
   "source": [
    "# Connect to SQLite\n",
    "conn = sqlite3.connect(\"retail_dw.db\")\n",
    "cursor = conn.cursor()\n",
    "\n",
    "# Create Customer Dimension\n",
    "customer_dim = (\n",
    "    df_cleaned[[\"CustomerID\", \"Country\"]]\n",
    "    .drop_duplicates()\n",
    "    .reset_index(drop=True)\n",
    ")\n",
    "customer_dim[\"CustomerKey\"] = customer_dim.index + 1  # surrogate key\n",
    "\n",
    "# Create Time Dimension\n",
    "time_dim = pd.DataFrame()\n",
    "time_dim[\"InvoiceDate\"] = df_cleaned[\"InvoiceDate\"].drop_duplicates().reset_index(drop=True)\n",
    "time_dim[\"DateKey\"] = time_dim.index + 1\n",
    "time_dim[\"Year\"] = time_dim[\"InvoiceDate\"].dt.year\n",
    "time_dim[\"Month\"] = time_dim[\"InvoiceDate\"].dt.month\n",
    "time_dim[\"Day\"] = time_dim[\"InvoiceDate\"].dt.day\n",
    "time_dim[\"Weekday\"] = time_dim[\"InvoiceDate\"].dt.day_name()\n",
    "time_dim[\"Quarter\"] = time_dim[\"InvoiceDate\"].dt.quarter  # for roll-up queries\n",
    "\n",
    "# Create Product Dimension (with category)\n",
    "product_dim = (\n",
    "    df_cleaned[[\"StockCode\", \"Description\", \"UnitPrice\", \"Category\"]]\n",
    "    .drop_duplicates()\n",
    "    .reset_index(drop=True)\n",
    ")\n",
    "product_dim[\"ProductKey\"] = product_dim.index + 1\n",
    "\n",
    "# Mapping Keys to Fact Table\n",
    "df_fact = (\n",
    "    df_cleaned\n",
    "    .merge(customer_dim, on=[\"CustomerID\", \"Country\"], how=\"left\")\n",
    "    .merge(time_dim, on=\"InvoiceDate\", how=\"left\")\n",
    "    .merge(product_dim, on=[\"StockCode\", \"Description\", \"UnitPrice\", \"Category\"], how=\"left\")\n",
    ")\n",
    "\n",
    "# Fact Table (only keep numeric keys + measures)\n",
    "sales_fact = df_fact[[\n",
    "    \"InvoiceNo\",\n",
    "    \"CustomerKey\",\n",
    "    \"DateKey\",\n",
    "    \"ProductKey\",\n",
    "    \"Quantity\",\n",
    "    \"UnitPrice\"\n",
    "]]\n",
    "\n",
    "# Logs for loaded data\n",
    "print(f\"CustomerDim rows: {len(customer_dim)}\")\n",
    "print(f\"TimeDim rows: {len(time_dim)}\")\n",
    "print(f\"ProductDim rows: {len(product_dim)}\")\n",
    "print(f\"SalesFact rows: {len(sales_fact)}\")\n",
    "\n",
    "# Load into SQLite\n",
    "customer_dim.to_sql(\"CustomerDim\", conn, if_exists=\"replace\", index=False)\n",
    "time_dim.to_sql(\"TimeDim\", conn, if_exists=\"replace\", index=False)\n",
    "product_dim.to_sql(\"ProductDim\", conn, if_exists=\"replace\", index=False)\n",
    "sales_fact.to_sql(\"SalesFact\", conn, if_exists=\"replace\", index=False)\n",
    "\n",
    "# Commit & Close\n",
    "conn.commit()\n",
    "conn.close()\n",
    "\n",
    "print(\"✅ Data successfully loaded into retail_dw.db\")\n"
   ]
  },
  {
   "cell_type": "code",
   "execution_count": 16,
   "id": "ebe2aad0",
   "metadata": {},
   "outputs": [
    {
     "name": "stdout",
     "output_type": "stream",
     "text": [
      "📂 Tables in database:\n",
      "          name\n",
      "0  CustomerDim\n",
      "1      TimeDim\n",
      "2   ProductDim\n",
      "3    SalesFact\n",
      "\n",
      "👥 CustomerDim (first 5 rows):\n",
      "  CustomerID                           Country  CustomerKey\n",
      "0      13905         Saint Pierre and Miquelon            1\n",
      "1      13478  Saint Vincent and the Grenadines            2\n",
      "2      93227                           Burundi            3\n",
      "3      91070                           Burundi            4\n",
      "4      22280         Bouvet Island (Bouvetoya)            5\n",
      "\n",
      "📅 TimeDim (first 5 rows):\n",
      "           InvoiceDate  DateKey  Year  Month  Day   Weekday  Quarter\n",
      "0  2025-01-18T14:35:33        1  2025      1   18  Saturday        1\n",
      "1  2025-03-09T07:02:50        2  2025      3    9    Sunday        1\n",
      "2  2025-07-04T23:25:57        3  2025      7    4    Friday        3\n",
      "3  2024-10-08T14:22:08        4  2024     10    8   Tuesday        4\n",
      "4  2024-11-12T15:34:41        5  2024     11   12   Tuesday        4\n",
      "\n",
      "📦 ProductDim (first 5 rows):\n",
      "  StockCode    Description  UnitPrice         Category  ProductKey\n",
      "0     69470            Pen       1.32           Travel           1\n",
      "1     44522  Laptop Sleeve      97.22         Clothing           2\n",
      "2     76542         Gloves      91.35           Travel           3\n",
      "3     49117   Camping Tent      84.33  Office Supplies           4\n",
      "4     31174      Floor Mat      54.40  Office Supplies           5\n",
      "\n",
      "📊 SalesFact (first 5 rows):\n",
      "  InvoiceNo  CustomerKey  DateKey  ProductKey  Quantity  UnitPrice\n",
      "0    800305            1        1           1        20       1.32\n",
      "1    240814            2        2           2         7      97.22\n",
      "2    734210            3        3           3        22      91.35\n",
      "3    629959            4        4           4         4      84.33\n",
      "4    563298            5        5           5        28      54.40\n"
     ]
    }
   ],
   "source": [
    "\n",
    "#Connecting to the database\n",
    "conn = sqlite3.connect(\"retail_dw.db\")\n",
    "\n",
    "# Checking table names \n",
    "print(\"📂 Tables in database:\")\n",
    "tables = pd.read_sql(\"SELECT name FROM sqlite_master WHERE type='table';\", conn)\n",
    "print(tables)\n",
    "\n",
    "# Preview each dimension table \n",
    "print(\"\\n👥 CustomerDim (first 5 rows):\")\n",
    "print(pd.read_sql(\"SELECT * FROM CustomerDim LIMIT 5;\", conn))   \n",
    "\n",
    "print(\"\\n📅 TimeDim (first 5 rows):\")\n",
    "print(pd.read_sql(\"SELECT * FROM TimeDim LIMIT 5;\", conn))\n",
    "\n",
    "print(\"\\n📦 ProductDim (first 5 rows):\")\n",
    "print(pd.read_sql(\"SELECT * FROM ProductDim LIMIT 5;\", conn))\n",
    "\n",
    "print(\"\\n📊 SalesFact (first 5 rows):\")\n",
    "print(pd.read_sql(\"SELECT * FROM SalesFact LIMIT 5;\", conn))\n",
    "\n",
    "conn.close()\n"
   ]
  },
  {
   "cell_type": "markdown",
   "id": "aeda9717",
   "metadata": {},
   "source": [
    "### Saving the cleaned_df to a CSV file"
   ]
  },
  {
   "cell_type": "code",
   "execution_count": 17,
   "id": "bc16aafe",
   "metadata": {},
   "outputs": [
    {
     "name": "stderr",
     "output_type": "stream",
     "text": [
      "<>:1: SyntaxWarning: invalid escape sequence '\\c'\n",
      "<>:1: SyntaxWarning: invalid escape sequence '\\c'\n",
      "C:\\Users\\Admin\\AppData\\Local\\Temp\\ipykernel_31864\\2945209726.py:1: SyntaxWarning: invalid escape sequence '\\c'\n",
      "  df_cleaned.to_csv(\"data\\cleaned_retail_data.csv\", index=False)\n"
     ]
    }
   ],
   "source": [
    "df_cleaned.to_csv(\"data\\cleaned_retail_data.csv\", index=False)"
   ]
  }
 ],
 "metadata": {
  "kernelspec": {
   "display_name": "Python 3",
   "language": "python",
   "name": "python3"
  },
  "language_info": {
   "codemirror_mode": {
    "name": "ipython",
    "version": 3
   },
   "file_extension": ".py",
   "mimetype": "text/x-python",
   "name": "python",
   "nbconvert_exporter": "python",
   "pygments_lexer": "ipython3",
   "version": "3.12.0"
  }
 },
 "nbformat": 4,
 "nbformat_minor": 5
}
